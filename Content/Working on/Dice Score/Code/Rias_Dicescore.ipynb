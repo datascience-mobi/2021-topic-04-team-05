#imports packages
%pylab #add numpy and matplotlib
%matplotlib inline

##designing the dice coefficent pt.1
#loading the images (true = ground truth image; pred = predicted segmentation by SVM)
img1_true = cv2.imread('path to file') #reads image into numpy array (2D matrix)
img1_pred = cv2.imread('path to file')

#convert image into type bool
img1t = img1_true.astype(bool)
img1p = img1_pred.astype(bool)

##designing the dice coefficent pt.2
img2_true = imread('path to image') #import image
img2_pred = imread('path to image') #import image

#convert image into type bool
img2t = np.asarray(img1_true).astype(np.bool) #converts image to array and then to bool
img2p = np.asarray(img1_pred).astype(np.bool) #converts image to array and then to bool


#defining the variables 'intersection' and 'union'
intersection = np.logical_and(img1t, img1p) #Compute the truth value of x1 AND x2 element-wise
union = img1t.sum() + img1p.sum()

#calculating the dice
if intersection + union == 0:
    print('dice cannot be calculated - no intersection')
else:
    dice = (2*intersection)/(union + intersection)
    print(dice)

##reusable code - TO BE DONE
#def dice_coefficent (groundtruth, SVMprediction)
