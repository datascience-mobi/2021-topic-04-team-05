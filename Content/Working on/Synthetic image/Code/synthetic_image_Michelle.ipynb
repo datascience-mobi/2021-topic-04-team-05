{
 "cells": [
  {
   "cell_type": "code",
   "execution_count": 3,
   "metadata": {
    "collapsed": true
   },
   "outputs": [],
   "source": [
    "import os\n",
    "import random\n",
    "import numpy as np\n",
    "import errno\n",
    "import csv\n",
    "from PIL import Image"
   ]
  },
  {
   "cell_type": "code",
   "execution_count": 4,
   "outputs": [],
   "source": [
    "foreground_path = Image.open(\"C:/Users/miche/Documents/Universität/Semester 4/Bioinfo Projekt/Synthetic image/cells.png\")\n",
    "#foreground_path.show()\n",
    "\n",
    "background_path= Image.open(\"C:/Users/miche/Documents/Universität/Semester 4/Bioinfo Projekt/Synthetic image/1094.jpg\")\n",
    "#background_path.show()"
   ],
   "metadata": {
    "collapsed": false,
    "pycharm": {
     "name": "#%%\n"
    }
   }
  },
  {
   "cell_type": "code",
   "execution_count": null,
   "outputs": [],
   "source": [
    "def compose_images(foreground_path, background_path):\n",
    "    # Make sure the foreground path is valid and open the image\n",
    "    assert os.path.exists(foreground_path), 'image path does not exist: {}'.format(foreground_path)\n",
    "    assert os.path.splitext(foreground_path)[1].lower() == '.png', 'foreground must be a .png file'\n",
    "    foreground = Image.open(foreground_path)\n",
    "    foreground_alpha = np.array(foreground.getchannel(3))\n",
    "    assert np.any(foreground_alpha == 0), 'foreground needs to have some transparency: {}'.format(foreground_path)\n",
    "\n",
    "    # Make sure the background path is valid and open the image\n",
    "    assert os.path.exists(background_path), 'image path does not exist: {}'.format(background_path)\n",
    "    assert os.path.splitext(background_path)[1].lower() in ['.png', '.jpg', 'jpeg'], \\\n",
    "        'foreground must be a .png or .jpg file: {}'.format(foreground_path)\n",
    "    background = Image.open(background_path)\n",
    "    background = background.convert('RGBA')"
   ],
   "metadata": {
    "collapsed": false,
    "pycharm": {
     "name": "#%%\n"
    }
   }
  }
 ],
 "metadata": {
  "kernelspec": {
   "name": "python3",
   "language": "python",
   "display_name": "Python 3"
  },
  "language_info": {
   "codemirror_mode": {
    "name": "ipython",
    "version": 2
   },
   "file_extension": ".py",
   "mimetype": "text/x-python",
   "name": "python",
   "nbconvert_exporter": "python",
   "pygments_lexer": "ipython2",
   "version": "2.7.6"
  }
 },
 "nbformat": 4,
 "nbformat_minor": 0
}