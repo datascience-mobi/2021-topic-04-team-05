{
 "cells": [
  {
   "cell_type": "code",
   "execution_count": 1,
   "outputs": [],
   "source": [
    "import numpy as np\n",
    "from glob import glob\n",
    "from tqdm import tqdm\n",
    "from skimage import io\n",
    "from skimage.transform import resize\n",
    "import matplotlib.pyplot as plt\n",
    "plt.rcParams[\"figure.figsize\"] = (10,5)\n",
    "import os\n",
    "from sklearn.utils import shuffle\n",
    "from sklearn.model_selection import train_test_split as tts\n",
    "from sklearn.metrics import accuracy_score, f1_score\n",
    "workdir = os.path.normpath(\"/Users/laurasanchis/PycharmProjects/2021-topic-04-team-05/\")\n",
    "IMGSIZE = 200"
   ],
   "metadata": {
    "collapsed": false,
    "pycharm": {
     "name": "#%%\n"
    }
   }
  },
  {
   "cell_type": "code",
   "execution_count": 2,
   "outputs": [],
   "source": [
    "def compute_cost(W, X, Y):\n",
    "    # calculate hinge loss\n",
    "    N = X.shape[0]\n",
    "    distances = 1 - Y * (np.dot(X, W))\n",
    "    distances[distances < 0] = 0  # equivalent to max(0, distance)\n",
    "    hinge_loss = regularization_strength * (np.sum(distances) / N)\n",
    "\n",
    "    # calculate cost\n",
    "    cost = 1 / 2 * np.dot(W, W) + hinge_loss\n",
    "    return cost\n",
    "\n",
    "def calculate_cost_gradient(W, X_batch, Y_batch):\n",
    "    # if only one example is passed (eg. in case of SGD)\n",
    "    if type(Y_batch) == np.float64:\n",
    "        Y_batch = np.array([Y_batch])\n",
    "        X_batch = np.array([X_batch])  # gives multidimensional array\n",
    "\n",
    "    distance = 1 - (Y_batch * np.dot(X_batch, W))\n",
    "    dw = np.zeros(len(W))\n",
    "\n",
    "    for ind, d in enumerate(distance):\n",
    "        if max(0, d) == 0:\n",
    "            di = W\n",
    "        else:\n",
    "            di = W - (regularization_strength * Y_batch[ind] * X_batch[ind])\n",
    "        dw += di\n",
    "\n",
    "    dw = dw/len(Y_batch)  # average\n",
    "    return dw\n",
    "\n",
    "def sgd(features, outputs):\n",
    "    max_epochs = 5000\n",
    "    weights = np.zeros(features.shape[1])\n",
    "    weights = np.random.random(features.shape[1])\n",
    "    nth = 0\n",
    "    prev_cost = float(\"inf\")\n",
    "    cost_threshold = 0.005  # Lower -> Longer training and better results\n",
    "    history_cost = []\n",
    "    # stochastic gradient descent\n",
    "    for epoch in range(1, max_epochs):\n",
    "        # shuffle to prevent repeating update cycles\n",
    "        X, Y = shuffle(features, outputs)\n",
    "        for ind, x in enumerate(X):\n",
    "            ascent = calculate_cost_gradient(weights, x, Y[ind])\n",
    "            weights = weights - (learning_rate * ascent)\n",
    "\n",
    "        cost = compute_cost(weights, features, outputs)\n",
    "        history_cost.append(cost)\n",
    "        # convergence check on 2^nth epoch\n",
    "        if epoch == 2 ** nth or epoch == max_epochs - 1:\n",
    "            #cost = compute_cost(weights, features, outputs)\n",
    "            print(\"Epoch is: {} and Cost is: {}\".format(epoch, cost))\n",
    "            # stoppage criterion\n",
    "            if abs(prev_cost - cost) < cost_threshold * prev_cost:\n",
    "                return weights, history_cost\n",
    "            prev_cost = cost\n",
    "            nth += 1\n",
    "\n",
    "    return weights, history_cost"
   ],
   "metadata": {
    "collapsed": false,
    "pycharm": {
     "name": "#%%\n"
    }
   }
  },
  {
   "cell_type": "code",
   "execution_count": 3,
   "outputs": [
    {
     "name": "stdout",
     "output_type": "stream",
     "text": [
      "6 images detected and 6 masks detected\n"
     ]
    }
   ],
   "source": [
    "def processImage(image_path, imgSize):\n",
    "    img = io.imread(image_path)\n",
    "    img = resize(img, (imgSize, imgSize))\n",
    "    img = img.reshape(-1, 1)\n",
    "    bias_term = np.ones(img.shape[0]).reshape(-1, 1)\n",
    "    return np.hstack([img, bias_term])\n",
    "\n",
    "def processMask(image_path, imgSize):\n",
    "    img = io.imread(image_path)\n",
    "    img = resize(img, (imgSize, imgSize))\n",
    "    img[img > 0] = 1\n",
    "    img[img < 1] = -1\n",
    "    img = img.flatten()\n",
    "    return img\n",
    "\n",
    "def predict(imageIndex):\n",
    "    data = processImage(imgs[imageIndex], IMGSIZE)\n",
    "    prediction = [np.sign(np.dot(data[pixelN], W)) for pixelN in range(data.shape[0])]\n",
    "    groundTruth = processMask(masks[imageIndex], IMGSIZE)\n",
    "    return prediction, groundTruth\n",
    "\n",
    "def pred2Image(prediction):\n",
    "    prediction = np.array(prediction)\n",
    "    return prediction.reshape((IMGSIZE, IMGSIZE))\n",
    "\n",
    "imgs = glob(workdir + \"/Data/N2DH-GOWT1/img/*.tif\")\n",
    "masks = glob(workdir + \"/Data/N2DH-GOWT1/gt/tif/*.tif\")\n",
    "print(f\"{len(imgs)} images detected and {len(masks)} masks detected\")"
   ],
   "metadata": {
    "collapsed": false,
    "pycharm": {
     "name": "#%%\n"
    }
   }
  },
  {
   "cell_type": "code",
   "execution_count": 4,
   "outputs": [],
   "source": [
    "NImagesTraining = 4\n",
    "X_train = np.vstack([processImage(imgPath, IMGSIZE) for imgPath in imgs[:NImagesTraining]])\n",
    "y_train = np.concatenate([processMask(imgPath, IMGSIZE) for imgPath in masks[:NImagesTraining]])\n",
    "X_test = [processImage(imgPath, IMGSIZE) for imgPath in imgs[NImagesTraining:]]\n",
    "y_test = [processMask(imgPath, IMGSIZE) for imgPath in masks[:NImagesTraining]]"
   ],
   "metadata": {
    "collapsed": false,
    "pycharm": {
     "name": "#%%\n"
    }
   }
  },
  {
   "cell_type": "code",
   "execution_count": 5,
   "outputs": [
    {
     "name": "stdout",
     "output_type": "stream",
     "text": [
      "Epoch is: 1 and Cost is: 1816.530543018501\n",
      "Epoch is: 2 and Cost is: 1803.8270959628107\n",
      "Epoch is: 4 and Cost is: 1802.7716214099692\n"
     ]
    }
   ],
   "source": [
    "regularization_strength = 10000\n",
    "learning_rate = 0.0000001\n",
    "W, hist = sgd(X_train, y_train)"
   ],
   "metadata": {
    "collapsed": false,
    "pycharm": {
     "name": "#%%\n"
    }
   }
  },
  {
   "cell_type": "code",
   "execution_count": 6,
   "outputs": [
    {
     "data": {
      "text/plain": "<Figure size 720x360 with 1 Axes>",
      "image/png": "[encoded data removed]"
     },
     "metadata": {
      "needs_background": "light"
     },
     "output_type": "display_data"
    }
   ],
   "source": [
    "fig = plt.plot(hist)\n",
    "_ = plt.ylabel(\"Cost function\")\n",
    "_ = plt.xlabel(\"Epoch\")\n",
    "_ = plt.title(f\"Final Weights {W}\")"
   ],
   "metadata": {
    "collapsed": false,
    "pycharm": {
     "name": "#%%\n"
    }
   }
  },
  {
   "cell_type": "code",
   "execution_count": 7,
   "outputs": [
    {
     "data": {
      "text/plain": "<Figure size 1100x550 with 2 Axes>",
      "image/png": "[encoded data removed]"
     },
     "metadata": {
      "needs_background": "light"
     },
     "output_type": "display_data"
    }
   ],
   "source": [
    "Ntest = len(imgs) - NImagesTraining\n",
    "fig, ax = plt.subplots(ncols=Ntest, dpi=110)\n",
    "fig.tight_layout(w_pad=-2)\n",
    "for i in range(Ntest):\n",
    "    ii = i+NImagesTraining\n",
    "    pred, gt = predict(ii)\n",
    "    ax[i].imshow(pred2Image(pred), cmap='cool')\n",
    "    ax[i].axis('Off')\n",
    "    ax[i].set_title(f\"Test img: {ii+1} F1:{round(f1_score(gt, pred), 2)}\")"
   ],
   "metadata": {
    "collapsed": false,
    "pycharm": {
     "name": "#%%\n"
    }
   }
  }
 ],
 "metadata": {
  "kernelspec": {
   "display_name": "Python 3",
   "language": "python",
   "name": "python3"
  },
  "language_info": {
   "codemirror_mode": {
    "name": "ipython",
    "version": 2
   },
   "file_extension": ".py",
   "mimetype": "text/x-python",
   "name": "python",
   "nbconvert_exporter": "python",
   "pygments_lexer": "ipython2",
   "version": "2.7.6"
  }
 },
 "nbformat": 4,
 "nbformat_minor": 0
}