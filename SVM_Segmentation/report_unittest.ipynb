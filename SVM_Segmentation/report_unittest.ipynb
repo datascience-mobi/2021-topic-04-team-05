{
 "cells": [],
 "metadata": {
  "kernelspec": {
   "display_name": "Python 3",
   "language": "python",
   "name": "python3"
  },
  "language_info": {
   "codemirror_mode": {
    "name": "ipython",
    "version": 2
   },
   "file_extension": ".py",
   "mimetype": "text/x-python",
   "name": "python",
   "nbconvert_exporter": "python",
   "pygments_lexer": "ipython2",
   "version": "2.7.6"
  },
  "pycharm": {
   "stem_cell": {
    "cell_type": "raw",
    "source": [
     "#md\n",
     "## 6.3 Unittesting the dice score\n",
     "\n",
     "To test the code for the dice score, we used a frequently used method of software testing: unittests.\n",
     "Unittests are a way of validating that a specific code chunk, a unit, performs as expected and thus its result is as anticipated.\n",
     "\n",
     "We implemented two kinds of unit tests.\n",
     "The dice score of an image with itself is always 1.0. For our first unit test, we used this knowledge to test our code.\n",
     "\n",
     "\n",
     "https://books.google.de/books?hl=de&lr=&id=2ksvdhhnWQsC&oi=fnd&pg=PT7&dq=unittest&ots=AM-Z26RRK0&sig=ecTKQZB5zW6u_cR_yE9dVnfiIeo#v=onepage&q=unittest&f=false\n",
     "http://pdvpmtasgaon.edu.in/uploads/dptcomputer/python%20-%20Dave%20Kuhlman.pdf\n"
    ],
    "metadata": {
     "collapsed": false
    }
   }
  }
 },
 "nbformat": 4,
 "nbformat_minor": 0
}