{
 "cells": [],
 "metadata": {
  "kernelspec": {
   "display_name": "Python 3",
   "language": "python",
   "name": "python3"
  },
  "language_info": {
   "codemirror_mode": {
    "name": "ipython",
    "version": 2
   },
   "file_extension": ".py",
   "mimetype": "text/x-python",
   "name": "python",
   "nbconvert_exporter": "python",
   "pygments_lexer": "ipython2",
   "version": "2.7.6"
  },
  "pycharm": {
   "stem_cell": {
    "cell_type": "raw",
    "source": [
     "#md\n",
     "## 6.3 Unittesting the dice score\n",
     "\n",
     "To test the code for the dice score, we used a frequently used method of software testing: unittests.\n",
     "Unittests are a way of validating that a specific code chunk, a unit, performs as expected and thus its result is as anticipated.\n",
     "\n",
     "We implemented two kinds of unit tests.\n",
     "The dice score of an image with itself is always 1.0. For our first unit test, we used this knowledge to test our code.\n",
     "\n",
     "\n",
     "https://books.google.de/books?hl=de&lr=&id=2ksvdhhnWQsC&oi=fnd&pg=PT7&dq=unittest&ots=AM-Z26RRK0&sig=ecTKQZB5zW6u_cR_yE9dVnfiIeo#v=onepage&q=unittest&f=false\n",
     "http://pdvpmtasgaon.edu.in/uploads/dptcomputer/python%20-%20Dave%20Kuhlman.pdf\n",
     "\n",
     "\n",
     "## 7. Results\n",
     "Our goal is to determine the best combination of the different possible pre-processing and preparation settings. These encompass\n",
     "Gauss-Filter, Watershed, Tiles, and Principal Component Analysis (PCA). As for PCA there is one option of preforming a PCA\n",
     "that does not reduce the number of features furtherly used for the SVM. This can be achieved using the scaling operation\n",
     "mentioned before. In this case tiles is needed additionally to reduce the amount of data.\n",
     "Another possible option would be to use a PCA that reduces the amount of features to the greater minimum of the number of\n",
     "features or the number of samples. In this case, as too little PCs lead to poor results, supplementing the given data with\n",
     "synthetically generated microscopic cell images is needed.\n",
     "\n",
     "Our overall goal is to evaluate whether at all and which specific changes to the original images enhance the segmentation result.\n",
     "For a more precise evaluation, we will use the dice score function to compare the final, segmented, images. The comparisons \n",
     "we did are the following:\n",
     "1) for the pre-processing: with Gauss-Filter vs. without, with Watershed vs. without, with Watershed vs. with Gauss\n",
     "2) for the SVM-preparation: with Tiles and PCA (without feature reduction [fr]) vs. with Tiles, with PCA (with fr) vs. with Tiles, \n",
     "with PCA (with fr) vs. with Tiles and PCA.\n",
     "\n",
     "\n"
    ],
    "metadata": {
     "collapsed": false
    }
   }
  }
 },
 "nbformat": 4,
 "nbformat_minor": 0
}