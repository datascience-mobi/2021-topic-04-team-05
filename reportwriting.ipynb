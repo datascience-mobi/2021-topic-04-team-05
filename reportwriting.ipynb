{
 "cells": [
  {
   "cell_type": "markdown",
   "metadata": {
    "collapsed": true,
    "pycharm": {
     "name": "#%% md\n"
    }
   },
   "source": [
    "\n",
    "\n",
    "## 4.3 Principal Component Analysis\n",
    "Principal component analysis simplifies the complexity of high-dimensional data by geometrically projecting them onto lower dimensions\n",
    "called principal components (PCs) while preserving as much of the data's variation as possible (Lever, 2017).\n",
    "These principal components are eigenvectors of the data's covariance matrix and often computed by\n",
    "eigendecomposition of the data covariance matrix. (Hedge, A. 2006)\n",
    "\n",
    "PCA essentially rotates the set of points around their mean in order to align them with the principal components.\n",
    "This moves as much of the variance as possible into the first few dimensions. The values in the remaining dimensions,\n",
    "therefore, tend to be small and may be dropped with minimal loss of information. (Jolliffe, I. 2016)\n",
    "\n",
    "We perform the PCA as part of our pre-processing. By retaining a selected number of PCs that together explain 95% of the variance of the\n",
    "image, we aim to reduce noise and increase contrast of the original images.\n",
    "\n",
    "After selecting the PCs, the image is uptransformed to its initial size.\n",
    "\n",
    "Because SVM is an algorithm that requires its features to be normalized, the PCA is performed with StandardScaler applied.\n",
    "This function scales the features to have zero as the mean and a standard deviaton of 1, to give\n",
    "it the feel and the properties of a standard normal distribution. As a positive side effect this also refines the SVMs prediction accuracy.\n",
    "\n",
    "# 5. Data Reduction\n",
    "As the images in our dataset consist of more than one million pixels each, running the SVM would take a lot of computational power and runtime.\n",
    "To decrease both, data reduction should be performed beforehand.\n",
    "\n",
    "Resize from skimage cuts the image "
   ]
  }
 ],
 "metadata": {
  "kernelspec": {
   "display_name": "Python 3",
   "language": "python",
   "name": "python3"
  },
  "language_info": {
   "codemirror_mode": {
    "name": "ipython",
    "version": 2
   },
   "file_extension": ".py",
   "mimetype": "text/x-python",
   "name": "python",
   "nbconvert_exporter": "python",
   "pygments_lexer": "ipython2",
   "version": "2.7.6"
  }
 },
 "nbformat": 4,
 "nbformat_minor": 0
}