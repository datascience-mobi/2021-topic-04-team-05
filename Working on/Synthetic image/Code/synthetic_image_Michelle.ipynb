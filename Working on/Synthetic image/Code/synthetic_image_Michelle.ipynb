{
 "cells": [
  {
   "cell_type": "code",
   "execution_count": 5,
   "metadata": {
    "collapsed": true
   },
   "outputs": [],
   "source": [
    "import os\n",
    "import random\n",
    "import numpy as np\n",
    "import errno\n",
    "import csv\n",
    "from PIL import Image"
   ]
  },
  {
   "cell_type": "code",
   "execution_count": 6,
   "outputs": [],
   "source": [
    "foreground_path = Image.open(\"C:/Users/miche/Documents/Universität/Semester 4/Bioinfo Projekt/Synthetic image/cells.png\")\n",
    "#foreground_path.show()\n",
    "\n",
    "background_path= Image.open(\"C:/Users/miche/Documents/Universität/Semester 4/Bioinfo Projekt/Synthetic image/1094.jpg\")\n",
    "#background_path.show()"
   ],
   "metadata": {
    "collapsed": false,
    "pycharm": {
     "name": "#%%\n"
    }
   }
  },
  {
   "cell_type": "code",
   "execution_count": 9,
   "outputs": [],
   "source": [
    "def compose_images(foreground_path, background_path):\n",
    "    # Make sure the foreground path is valid and open the image\n",
    "    assert os.path.exists(foreground_path), 'image path does not exist: {}'.format(foreground_path)\n",
    "    assert os.path.splitext(foreground_path)[1].lower() == '.png', 'foreground must be a .png file'\n",
    "    foreground = Image.open(foreground_path)\n",
    "    foreground_alpha = np.array(foreground.getchannel(3))\n",
    "    assert np.any(foreground_alpha == 0), 'foreground needs to have some transparency: {}'.format(foreground_path)\n",
    "\n",
    "    # Make sure the background path is valid and open the image\n",
    "    assert os.path.exists(background_path), 'image path does not exist: {}'.format(background_path)\n",
    "    assert os.path.splitext(background_path)[1].lower() in ['.png', '.jpg', 'jpeg'], \\\n",
    "        'foreground must be a .png or .jpg file: {}'.format(foreground_path)\n",
    "    background = Image.open(background_path)\n",
    "    background = background.convert('RGBA')"
   ],
   "metadata": {
    "collapsed": false,
    "pycharm": {
     "name": "#%%\n"
    }
   }
  },
  {
   "cell_type": "code",
   "execution_count": 10,
   "outputs": [
    {
     "ename": "NameError",
     "evalue": "name 'foreground' is not defined",
     "output_type": "error",
     "traceback": [
      "\u001B[1;31m---------------------------------------------------------------------------\u001B[0m",
      "\u001B[1;31mNameError\u001B[0m                                 Traceback (most recent call last)",
      "\u001B[1;32m<ipython-input-10-96430a7cef7e>\u001B[0m in \u001B[0;36m<module>\u001B[1;34m\u001B[0m\n\u001B[0;32m      1\u001B[0m \u001B[1;31m# Rotate the foreground\u001B[0m\u001B[1;33m\u001B[0m\u001B[1;33m\u001B[0m\u001B[1;33m\u001B[0m\u001B[0m\n\u001B[0;32m      2\u001B[0m \u001B[0mangle_degrees\u001B[0m \u001B[1;33m=\u001B[0m \u001B[0mrandom\u001B[0m\u001B[1;33m.\u001B[0m\u001B[0mrandint\u001B[0m\u001B[1;33m(\u001B[0m\u001B[1;36m0\u001B[0m\u001B[1;33m,\u001B[0m \u001B[1;36m359\u001B[0m\u001B[1;33m)\u001B[0m\u001B[1;33m\u001B[0m\u001B[1;33m\u001B[0m\u001B[0m\n\u001B[1;32m----> 3\u001B[1;33m \u001B[0mforeground\u001B[0m \u001B[1;33m=\u001B[0m \u001B[0mforeground\u001B[0m\u001B[1;33m.\u001B[0m\u001B[0mrotate\u001B[0m\u001B[1;33m(\u001B[0m\u001B[0mangle_degrees\u001B[0m\u001B[1;33m,\u001B[0m \u001B[0mresample\u001B[0m\u001B[1;33m=\u001B[0m\u001B[0mImage\u001B[0m\u001B[1;33m.\u001B[0m\u001B[0mBICUBIC\u001B[0m\u001B[1;33m,\u001B[0m \u001B[0mexpand\u001B[0m\u001B[1;33m=\u001B[0m\u001B[1;32mTrue\u001B[0m\u001B[1;33m)\u001B[0m\u001B[1;33m\u001B[0m\u001B[1;33m\u001B[0m\u001B[0m\n\u001B[0m\u001B[0;32m      4\u001B[0m \u001B[1;33m\u001B[0m\u001B[0m\n\u001B[0;32m      5\u001B[0m \u001B[1;31m# Scale the foreground\u001B[0m\u001B[1;33m\u001B[0m\u001B[1;33m\u001B[0m\u001B[1;33m\u001B[0m\u001B[0m\n",
      "\u001B[1;31mNameError\u001B[0m: name 'foreground' is not defined"
     ]
    }
   ],
   "source": [
    "# Rotate the foreground\n",
    "angle_degrees = random.randint(0, 359)\n",
    "foreground = foreground.rotate(angle_degrees, resample=Image.BICUBIC, expand=True)\n",
    "\n",
    "# Scale the foreground\n",
    "scale = random.random() * .5 + .5 # Pick something between .5 and 1\n",
    "new_size = (int(foreground.size[0] * scale), int(foreground.size[1] * scale))\n",
    "foreground = foreground.resize(new_size, resample=Image.BICUBIC)\n",
    "\n",
    "# Add any other transformations here...\n",
    "\n",
    "# Choose a random x,y position for the foreground\n",
    "max_xy_position = (background.size[0] - foreground.size[0], background.size[1] - foreground.size[1])\n",
    "assert max_xy_position[0] >= 0 and max_xy_position[1] >= 0, \\\n",
    "'foreground {} is to big for the background {}'.format(foreground_path, background_path)\n",
    "paste_position = (random.randint(0, max_xy_position[0]), random.randint(0, max_xy_position[1]))\n",
    "\n",
    "# Create a new foreground image as large as the background and paste it on top\n",
    "new_foreground = Image.new('RGBA', background.size, color = (0, 0, 0, 0))\n",
    "new_foreground.paste(foreground, paste_position)\n",
    "\n",
    "# Extract the alpha channel from the foreground and paste it into a new image the size of the background\n",
    "alpha_mask = foreground.getchannel(3)\n",
    "new_alpha_mask = Image.new('L', background.size, color=0)\n",
    "new_alpha_mask.paste(alpha_mask, paste_position)\n",
    "composite = Image.composite(new_foreground, background, new_alpha_mask)\n",
    "\n",
    "# Grab the alpha pixels above a specified threshold\n",
    "alpha_threshold = 200\n",
    "mask_arr = np.array(np.greater(np.array(new_alpha_mask), alpha_threshold), dtype=np.uint8)\n",
    "hard_mask = Image.fromarray(np.uint8(mask_arr) * 255, 'L')\n",
    "\n",
    "# Get the smallest & largest non-zero values in each dimension and calculate the bounding box\n",
    "nz = np.nonzero(hard_mask)\n",
    "bbox = [np.min(nz[0]), np.min(nz[1]), np.max(nz[0]), np.max(nz[1])]\n",
    "\n",
    "return composite, hard_mask, bbox"
   ],
   "metadata": {
    "collapsed": false,
    "pycharm": {
     "name": "#%%\n"
    }
   }
  },
  {
   "cell_type": "code",
   "execution_count": 12,
   "outputs": [
    {
     "ename": "FileNotFoundError",
     "evalue": "[WinError 3] Das System kann den angegebenen Pfad nicht finden: 'C:/Users/miche/Documents/Universität/Semester 4/Bioinfo Projekt/Synthetic image/backgrounds'",
     "output_type": "error",
     "traceback": [
      "\u001B[1;31m---------------------------------------------------------------------------\u001B[0m",
      "\u001B[1;31mFileNotFoundError\u001B[0m                         Traceback (most recent call last)",
      "\u001B[1;32m<ipython-input-12-00933e5baab5>\u001B[0m in \u001B[0;36m<module>\u001B[1;34m\u001B[0m\n\u001B[0;32m      3\u001B[0m \u001B[0mbackgrounds_dir\u001B[0m \u001B[1;33m=\u001B[0m \u001B[0mos\u001B[0m\u001B[1;33m.\u001B[0m\u001B[0mpath\u001B[0m\u001B[1;33m.\u001B[0m\u001B[0mjoin\u001B[0m\u001B[1;33m(\u001B[0m\u001B[0mdataset_dir\u001B[0m\u001B[1;33m,\u001B[0m \u001B[1;34m'backgrounds'\u001B[0m\u001B[1;33m)\u001B[0m\u001B[1;33m\u001B[0m\u001B[1;33m\u001B[0m\u001B[0m\n\u001B[0;32m      4\u001B[0m \u001B[0mforegrounds_dir\u001B[0m \u001B[1;33m=\u001B[0m \u001B[0mos\u001B[0m\u001B[1;33m.\u001B[0m\u001B[0mpath\u001B[0m\u001B[1;33m.\u001B[0m\u001B[0mjoin\u001B[0m\u001B[1;33m(\u001B[0m\u001B[0mdataset_dir\u001B[0m\u001B[1;33m,\u001B[0m \u001B[1;34m'foregrounds'\u001B[0m\u001B[1;33m)\u001B[0m\u001B[1;33m\u001B[0m\u001B[1;33m\u001B[0m\u001B[0m\n\u001B[1;32m----> 5\u001B[1;33m \u001B[0mbackgrounds\u001B[0m \u001B[1;33m=\u001B[0m \u001B[1;33m[\u001B[0m\u001B[0mos\u001B[0m\u001B[1;33m.\u001B[0m\u001B[0mpath\u001B[0m\u001B[1;33m.\u001B[0m\u001B[0mjoin\u001B[0m\u001B[1;33m(\u001B[0m\u001B[0mbackgrounds_dir\u001B[0m\u001B[1;33m,\u001B[0m \u001B[0mfile_name\u001B[0m\u001B[1;33m)\u001B[0m \u001B[1;32mfor\u001B[0m \u001B[0mfile_name\u001B[0m \u001B[1;32min\u001B[0m \u001B[0mos\u001B[0m\u001B[1;33m.\u001B[0m\u001B[0mlistdir\u001B[0m\u001B[1;33m(\u001B[0m\u001B[0mbackgrounds_dir\u001B[0m\u001B[1;33m)\u001B[0m\u001B[1;33m]\u001B[0m\u001B[1;33m\u001B[0m\u001B[1;33m\u001B[0m\u001B[0m\n\u001B[0m\u001B[0;32m      6\u001B[0m \u001B[0mforegrounds\u001B[0m \u001B[1;33m=\u001B[0m \u001B[1;33m[\u001B[0m\u001B[0mos\u001B[0m\u001B[1;33m.\u001B[0m\u001B[0mpath\u001B[0m\u001B[1;33m.\u001B[0m\u001B[0mjoin\u001B[0m\u001B[1;33m(\u001B[0m\u001B[0mforegrounds_dir\u001B[0m\u001B[1;33m,\u001B[0m \u001B[0mfile_name\u001B[0m\u001B[1;33m)\u001B[0m \u001B[1;32mfor\u001B[0m \u001B[0mfile_name\u001B[0m \u001B[1;32min\u001B[0m \u001B[0mos\u001B[0m\u001B[1;33m.\u001B[0m\u001B[0mlistdir\u001B[0m\u001B[1;33m(\u001B[0m\u001B[0mforegrounds_dir\u001B[0m\u001B[1;33m)\u001B[0m\u001B[1;33m]\u001B[0m\u001B[1;33m\u001B[0m\u001B[1;33m\u001B[0m\u001B[0m\n\u001B[0;32m      7\u001B[0m \u001B[1;33m\u001B[0m\u001B[0m\n",
      "\u001B[1;31mFileNotFoundError\u001B[0m: [WinError 3] Das System kann den angegebenen Pfad nicht finden: 'C:/Users/miche/Documents/Universität/Semester 4/Bioinfo Projekt/Synthetic image/backgrounds'"
     ]
    }
   ],
   "source": [
    "# Get lists of foreground and background image paths\n",
    "dataset_dir = 'C:/Users/miche/Documents/Universität/Semester 4/Bioinfo Projekt/Synthetic image/'\n",
    "backgrounds_dir = os.path.join(dataset_dir, 'backgrounds')\n",
    "foregrounds_dir = os.path.join(dataset_dir, 'foregrounds')\n",
    "backgrounds = [os.path.join(backgrounds_dir, file_name) for file_name in os.listdir(backgrounds_dir)]\n",
    "foregrounds = [os.path.join(foregrounds_dir, file_name) for file_name in os.listdir(foregrounds_dir)]\n",
    "\n",
    "# Create an output directory\n",
    "output_dir = os.path.join(dataset_dir, 'generated')\n",
    "try:\n",
    "    os.mkdir(output_dir)\n",
    "except OSError as exc:\n",
    "    if exc.errno != errno.EEXIST:\n",
    "        raise\n",
    "    pass\n",
    "\n",
    "# Create a list to keep track of images and mask annotations\n",
    "csv_lines = []\n",
    "\n",
    "# Generate 5 new images\n",
    "for i in range(5):\n",
    "    foreground_path = random.choice(foregrounds)\n",
    "    background_path = random.choice(backgrounds)\n",
    "    composite, mask, bbox = compose_images(foreground_path, background_path)\n",
    "\n",
    "    composite_path = os.path.join(output_dir, 'image_{0:04d}.png'.format(i))\n",
    "    composite.save(composite_path)\n",
    "\n",
    "    mask_path = os.path.join(output_dir, 'mask_{0:04d}.png'.format(i))\n",
    "    mask.save(mask_path)\n",
    "\n",
    "    csv_lines.append([composite_path, bbox, mask_path])\n",
    "\n",
    "    # Output the annotations csv\n",
    "annotations_csv_path = os.path.join(output_dir, 'annotations.csv')\n",
    "with open(annotations_csv_path, 'w', newline='') as csvfile:\n",
    "    writer = csv.writer(csvfile, delimiter=',', quotechar='|', quoting=csv.QUOTE_MINIMAL)\n",
    "    for csv_line in csv_lines:\n",
    "        writer.writerow(csv_line)"
   ],
   "metadata": {
    "collapsed": false,
    "pycharm": {
     "name": "#%%\n"
    }
   }
  },
  {
   "cell_type": "code",
   "execution_count": null,
   "outputs": [],
   "source": [
    "sample_image_path = csv_lines[0][0]\n",
    "sample_image = Image.open(sample_image_path)\n",
    "sample_image"
   ],
   "metadata": {
    "collapsed": false,
    "pycharm": {
     "name": "#%%\n"
    }
   }
  },
  {
   "cell_type": "code",
   "execution_count": null,
   "outputs": [],
   "source": [
    "sample_mask_path = csv_lines[0][2]\n",
    "sample_mask = Image.open(sample_mask_path)\n",
    "sample_mask"
   ],
   "metadata": {
    "collapsed": false,
    "pycharm": {
     "name": "#%%\n"
    }
   }
  }
 ],
 "metadata": {
  "kernelspec": {
   "name": "python3",
   "language": "python",
   "display_name": "Python 3"
  },
  "language_info": {
   "codemirror_mode": {
    "name": "ipython",
    "version": 2
   },
   "file_extension": ".py",
   "mimetype": "text/x-python",
   "name": "python",
   "nbconvert_exporter": "python",
   "pygments_lexer": "ipython2",
   "version": "2.7.6"
  }
 },
 "nbformat": 4,
 "nbformat_minor": 0
}